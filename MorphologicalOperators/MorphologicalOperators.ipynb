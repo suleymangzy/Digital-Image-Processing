{
 "cells": [
  {
   "metadata": {},
   "cell_type": "markdown",
   "source": "# Morfolojik Operatörler",
   "id": "65feb56b654d1afd"
  },
  {
   "metadata": {},
   "cell_type": "markdown",
   "source": " Matematiksel morfoloji, geometrik objelerde ilgili işlem ve analiz yapma teori ve tekniğidir. Temel küme teoremi, topoloji, rasgele fonksiyonlar kafes kuramına bağlıdır.En yaygın kullanımı sayısal görüntüler üzerindedir. Ancak bilindiği üzeere grafikler, yüzey ağları, katı cisimler v epek çok uzaysal cisimlerde kullanılmaktadır.",
   "id": "e5654001189663b8"
  },
  {
   "metadata": {
    "ExecuteTime": {
     "end_time": "2025-02-23T16:35:01.434774Z",
     "start_time": "2025-02-23T16:35:01.431118Z"
    }
   },
   "cell_type": "code",
   "source": [
    "import matplotlib.pyplot as plt\n",
    "from Operators import *"
   ],
   "id": "ad72010e7c938c07",
   "outputs": [],
   "execution_count": 13
  },
  {
   "metadata": {},
   "cell_type": "markdown",
   "source": "## Operatörler",
   "id": "327e225758e37d38"
  },
  {
   "metadata": {},
   "cell_type": "markdown",
   "source": [
    "### Aşınma (Erosion)\n",
    "\n",
    "Bir ikili görüntü  $(A)$  ve bir yapısal eleman $(B)$ verildiğinde:\n",
    "\n",
    "$$\n",
    "A \\ominus B = \\{ z \\in E  |  B_z \\subseteq A \\}\n",
    "$$\n",
    "\n",
    "Burada;\n",
    "- $A$: İkili görüntüdür (Binary Image).\n",
    "- $B$: Yapısal elemandır (Structuring Element).\n",
    "- $z$: Öklidyen uzaydaki $(E)$ noktalarından biridir.\n",
    "- $B_z$: $B$ yapısal elemanının $z$ noktasındaki ötelemesidir.\n"
   ],
   "id": "1053a99d19aaec0d"
  },
  {
   "metadata": {},
   "cell_type": "markdown",
   "source": [
    "- $A$ kümesinin $B$ yapısal elemanının $z$ noktasına göre kaydırılmış hali ile aşınma (erosion) işlemi sonucunda, eğer yapısal elemanın tamamı küme içerisinde ise sonuç 1 olur. Aksi takdirde 0 olur.\n",
    "- ikili imgedeki nesneyi küçültmeye ya da inceltmeye yarayan morfolojik işlemdir.\n",
    "- İmge içerisindeki nesneler ufalır, delik varsa genişler, bağlı nesneler ayrılma eğilimi gösterir.\n",
    "- Operatörün temel etkisi görüntüyü kenarlarından erozyona uğratmaktadır. Sonuçta pilsel grupları ve aralarındaki boşluklar küçülür seçilen SE’ye göre gürültülü şekiller düzelir."
   ],
   "id": "cd7d78258fe4e2f"
  },
  {
   "metadata": {},
   "cell_type": "markdown",
   "source": "## Yapılandırma Elemanları (Structuring Element - SE)",
   "id": "5f8b8ec50091d090"
  },
  {
   "metadata": {},
   "cell_type": "markdown",
   "source": "- Yapılandırma elemanları(Structuring Element), farklı şekillerde ve büyüklüklerde olabilmektedir. Bunların bir merkez noktası bulunmakta olup, işlenecek resmin her bir pikseli bu noktaya oturtularak işlem yapılmaktadır.\n",
   "id": "15b8a392aa8dfebf"
  },
  {
   "metadata": {
    "ExecuteTime": {
     "end_time": "2025-02-23T16:35:01.466870Z",
     "start_time": "2025-02-23T16:35:01.444539Z"
    }
   },
   "cell_type": "code",
   "source": [
    "path = 'image.png'  # Görüntü yolu\n",
    "binary_image = load_binary_image(path)"
   ],
   "id": "63fea8fbf6d93ee3",
   "outputs": [],
   "execution_count": 14
  },
  {
   "metadata": {
    "ExecuteTime": {
     "end_time": "2025-02-23T16:35:01.479606Z",
     "start_time": "2025-02-23T16:35:01.475743Z"
    }
   },
   "cell_type": "code",
   "source": [
    "# Yapılandırma Elemanı (Structuring Element)\n",
    "kernel = np.array([[1, 1, 1],\n",
    "                    [1, 1, 1],\n",
    "                    [1, 1, 1]])"
   ],
   "id": "a44ab4ab95131b43",
   "outputs": [],
   "execution_count": 15
  },
  {
   "metadata": {
    "ExecuteTime": {
     "end_time": "2025-02-23T16:35:01.782126Z",
     "start_time": "2025-02-23T16:35:01.495854Z"
    }
   },
   "cell_type": "code",
   "source": "eroded = erosion(binary_image, kernel)",
   "id": "9fa1fd796714323e",
   "outputs": [],
   "execution_count": 16
  },
  {
   "metadata": {
    "ExecuteTime": {
     "end_time": "2025-02-23T16:35:01.867134Z",
     "start_time": "2025-02-23T16:35:01.787187Z"
    }
   },
   "cell_type": "code",
   "source": [
    "plt.figure(figsize=(8, 6))\n",
    "titles = ['Original', 'Erosion']\n",
    "images = [binary_image, eroded]\n",
    "\n",
    "for i in range(2):\n",
    "    plt.subplot(1, 2, i+1)\n",
    "    plt.imshow(images[i], cmap='gray')\n",
    "    plt.title(titles[i])\n",
    "    plt.axis('off')\n",
    "plt.show()"
   ],
   "id": "a1177be3262bcb15",
   "outputs": [
    {
     "data": {
      "text/plain": [
       "<Figure size 800x600 with 2 Axes>"
      ],
      "image/png": "[encoded data removed]"
     },
     "metadata": {},
     "output_type": "display_data"
    }
   ],
   "execution_count": 17
  },
  {
   "metadata": {},
   "cell_type": "markdown",
   "source": [
    "### Genişleme (Dilation)\n",
    "\n",
    "Bir ikili görüntü $(A)$ ve bir yapısal eleman $(B)$ verildiğinde:\n",
    "\n",
    "$$\n",
    "A \\oplus B = \\{ z \\in E \\ | \\ B_z \\cap A \\neq \\emptyset \\}\n",
    "$$\n",
    "\n",
    "Burada;\n",
    "- $A$: İkili görüntüdür (Binary Image).\n",
    "- $B$: Yapısal elemandır (Structuring Element).\n",
    "- $z$: Öklidyen uzaydaki $(E)$ noktalarından biridir.\n",
    "- $B_z$: $B$ yapısal elemanının $z$ noktasındaki ötelemesidir (Translation).\n",
    "- $\\cap$: Kesişim işlemi (Intersection).\n",
    "- $\\neq \\emptyset$: Kesişim boş küme değilse (yani en az bir piksel çakışıyorsa) genişleme işlemi uygulanır.\n",
    "\n"
   ],
   "id": "2beb48d9601c8741"
  },
  {
   "metadata": {},
   "cell_type": "markdown",
   "source": [
    "- $z$ noktaına göre kaydırılmış $B$ yapısal elemanı ile $A$ kümesinin kesişen ortak bir elemanı varsa merkez noktanın değeri 1 olur. Aksi takdirde 0 olur.\n",
    "- ikili imgedeki nesneyi büyütmeye ya da kalınlaştırmaya yarayan morfolojik işlemdir.\n",
    "- Sayısal bir imgeyi genişletmek imgeyi yapısal elemanla kesiştiği bölümler kadar büyütmektir.\n",
    "- Yayma işlemi uygulanmış bir imgede, imge içerisindeki deliklerin ve boşlukların doldurulması ve köşe noktasının yumuşaması gözlenir.\n",
    "- Operatörün temel etkisi görüntüyü kenarlarından genişletmektir. Sonuçta pilsel grupları büyür ve aralarındaki boşluklar küçülür."
   ],
   "id": "d7f2c5793a02fdc1"
  },
  {
   "metadata": {
    "ExecuteTime": {
     "end_time": "2025-02-23T16:35:02.184524Z",
     "start_time": "2025-02-23T16:35:01.880494Z"
    }
   },
   "cell_type": "code",
   "source": "dilated = dilation(binary_image, kernel)",
   "id": "e1b4eac122c41799",
   "outputs": [],
   "execution_count": 18
  },
  {
   "metadata": {
    "ExecuteTime": {
     "end_time": "2025-02-23T16:35:02.287930Z",
     "start_time": "2025-02-23T16:35:02.192945Z"
    }
   },
   "cell_type": "code",
   "source": [
    "plt.figure(figsize=(8, 6))\n",
    "titles = ['Original', 'Dilation']\n",
    "images = [binary_image, dilated]\n",
    "\n",
    "for i in range(2):\n",
    "    plt.subplot(1, 2, i+1)\n",
    "    plt.imshow(images[i], cmap='gray')\n",
    "    plt.title(titles[i])\n",
    "    plt.axis('off')\n",
    "plt.show()"
   ],
   "id": "82a0f54cedf5a7b9",
   "outputs": [
    {
     "data": {
      "text/plain": [
       "<Figure size 800x600 with 2 Axes>"
      ],
      "image/png": "[encoded data removed]"
     },
     "metadata": {},
     "output_type": "display_data"
    }
   ],
   "execution_count": 19
  },
  {
   "metadata": {},
   "cell_type": "markdown",
   "source": [
    "### Açma (Opening)\n",
    "\n",
    "Bir ikili görüntü $(A)$ ve bir yapısal eleman $(B)$ verildiğinde:\n",
    "\n",
    "$$\n",
    "A \\circ B = \\{ z \\in E \\ | \\ B_z \\cap A \\neq \\emptyset \\} = (A \\ominus B) \\oplus B\n",
    "$$\n",
    "\n",
    "Burada;\n",
    "- $A$: İkili görüntüdür (Binary Image).\n",
    "- $B$: Yapısal elemandır (Structuring Element).\n",
    "- $z$: Öklidyen uzaydaki $(E)$ noktalarından biridir.\n",
    "- $B_z$: $B$ yapısal elemanının $z$ noktasındaki ötelemesidir.\n",
    "- $\\cap$: Kesişim işlemi.\n",
    "- $\\neq \\emptyset$: Kesişim boş küme değilse (yani en az bir piksel çakışıyorsa) erozyon işlemi uygulanır.\n",
    "\n",
    "- Açma işlemi, önce aşınma $A \\ominus B$ sonra genişleme $\\oplus B$ işlemlerini uygulayarak şekillerin dış hatlarını incelemeye olanak tanır ve küçük gürültüleri temizler.\n",
    "- Şekiller yumuşatılır, şekilleri birbirine bağlayan küçük parçalar silinir, küçük adacıklar/tepecikler silinir.\n",
    "\n"
   ],
   "id": "92bdb23a82e19c14"
  },
  {
   "metadata": {
    "ExecuteTime": {
     "end_time": "2025-02-23T16:35:02.874083Z",
     "start_time": "2025-02-23T16:35:02.299050Z"
    }
   },
   "cell_type": "code",
   "source": "opened = opening(binary_image, kernel)",
   "id": "f1ed82ed465914dd",
   "outputs": [],
   "execution_count": 20
  },
  {
   "metadata": {
    "ExecuteTime": {
     "end_time": "2025-02-23T16:35:02.977826Z",
     "start_time": "2025-02-23T16:35:02.882257Z"
    }
   },
   "cell_type": "code",
   "source": [
    "plt.figure(figsize=(8, 6))\n",
    "titles = ['Original', 'Opening']\n",
    "images = [binary_image, opened]\n",
    "\n",
    "for i in range(2):\n",
    "    plt.subplot(1, 2, i+1)\n",
    "    plt.imshow(images[i], cmap='gray')\n",
    "    plt.title(titles[i])\n",
    "    plt.axis('off')\n",
    "plt.show()"
   ],
   "id": "3b53f784c6692831",
   "outputs": [
    {
     "data": {
      "text/plain": [
       "<Figure size 800x600 with 2 Axes>"
      ],
      "image/png": "[encoded data removed]"
     },
     "metadata": {},
     "output_type": "display_data"
    }
   ],
   "execution_count": 21
  },
  {
   "metadata": {},
   "cell_type": "markdown",
   "source": [
    "### Kapama (Closing)\n",
    "\n",
    "Bir ikili görüntü $(A)$ ve bir yapısal eleman $(B)$ verildiğinde:\n",
    "\n",
    "$$\n",
    "A \\bullet B = \\{ z \\in E \\ | \\ B_z \\cap A \\neq \\emptyset \\} = (A \\oplus B) \\ominus B\n",
    "$$\n",
    "\n",
    "Burada;\n",
    "- $A$: İkili görüntüdür (Binary Image).\n",
    "- $B$: Yapısal elemandır (Structuring Element).\n",
    "- $z$: Öklidyen uzaydaki $(E)$ noktalarından biridir.\n",
    "- $B_z$: $B$ yapısal elemanının $z$ noktasındaki ötelemesidir.\n",
    "- $\\cap$: Kesişim işlemi.\n",
    "- $\\neq \\emptyset$: Kesişim boş küme değilse (yani en az bir piksel çakışıyorsa) genişleme işlemi uygulanır.\n",
    "\n",
    "- Kapama işlemi, önce genişleme $ A \\oplus B $ sonra erozyon $ \\ominus B $ işlemlerini uygulayarak şekillerin içindeki küçük boşlukları doldurur ve yakın nesneleri birbirine bağlar.\n",
    "- Şekiller yumuşatılır, dar kırılma noktaları ve uzun ince boşluklar kaynaştırılır, küçük boşluklar kaldırılır.\n"
   ],
   "id": "10f8d47deb5543d6"
  },
  {
   "metadata": {
    "ExecuteTime": {
     "end_time": "2025-02-23T16:35:03.556970Z",
     "start_time": "2025-02-23T16:35:02.987164Z"
    }
   },
   "cell_type": "code",
   "source": "closed = closing(binary_image, kernel)",
   "id": "a091b7260ca99923",
   "outputs": [],
   "execution_count": 22
  },
  {
   "metadata": {
    "ExecuteTime": {
     "end_time": "2025-02-23T16:35:03.664715Z",
     "start_time": "2025-02-23T16:35:03.567367Z"
    }
   },
   "cell_type": "code",
   "source": [
    "plt.figure(figsize=(8, 6))\n",
    "titles = ['Original', 'Closing']\n",
    "images = [binary_image, closed]\n",
    "\n",
    "for i in range(2):\n",
    "    plt.subplot(1, 2, i+1)\n",
    "    plt.imshow(images[i], cmap='gray')\n",
    "    plt.title(titles[i])\n",
    "    plt.axis('off')\n",
    "plt.show()"
   ],
   "id": "26e74c00e66e5029",
   "outputs": [
    {
     "data": {
      "text/plain": [
       "<Figure size 800x600 with 2 Axes>"
      ],
      "image/png": "[encoded data removed]"
     },
     "metadata": {},
     "output_type": "display_data"
    }
   ],
   "execution_count": 23
  }
 ],
 "metadata": {
  "kernelspec": {
   "display_name": "Python 3",
   "language": "python",
   "name": "python3"
  },
  "language_info": {
   "codemirror_mode": {
    "name": "ipython",
    "version": 2
   },
   "file_extension": ".py",
   "mimetype": "text/x-python",
   "name": "python",
   "nbconvert_exporter": "python",
   "pygments_lexer": "ipython2",
   "version": "2.7.6"
  }
 },
 "nbformat": 4,
 "nbformat_minor": 5
}
